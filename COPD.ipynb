{
 "cells": [
  {
   "cell_type": "markdown",
   "metadata": {},
   "source": [
    "# Python Linear Regression and Deep Leaning Analysis of COPD Public Health Data"
   ]
  },
  {
   "cell_type": "code",
   "execution_count": 1,
   "metadata": {},
   "outputs": [],
   "source": [
    "import pandas as pd\n",
    "import matplotlib.pyplot as plt\n",
    "import tensorflow as tf\n",
    "from tensorflow import keras\n",
    "from tensorflow.keras import layers\n",
    "from sklearn.metrics import r2_score\n",
    "import numpy as np\n",
    "import seaborn as sns"
   ]
  },
  {
   "cell_type": "markdown",
   "metadata": {},
   "source": [
    "This is a Data Set from the Global Masters of Public Health through Imperial College London and Coursera"
   ]
  },
  {
   "cell_type": "code",
   "execution_count": 2,
   "metadata": {},
   "outputs": [],
   "source": [
    "df = pd.read_csv(r\"C:\\Users\\dougl\\OneDrive\\Desktop\\VYLgxg9YEemU7w7-EFnPcg_5645e2700f5811e9b2f4133a1edfbb40_COPD_student_dataset.csv\")"
   ]
  },
  {
   "cell_type": "markdown",
   "metadata": {},
   "source": [
    "Loading the Data Set using pandas"
   ]
  },
  {
   "cell_type": "code",
   "execution_count": 3,
   "metadata": {},
   "outputs": [
    {
     "data": {
      "text/html": [
       "<div>\n",
       "<style scoped>\n",
       "    .dataframe tbody tr th:only-of-type {\n",
       "        vertical-align: middle;\n",
       "    }\n",
       "\n",
       "    .dataframe tbody tr th {\n",
       "        vertical-align: top;\n",
       "    }\n",
       "\n",
       "    .dataframe thead th {\n",
       "        text-align: right;\n",
       "    }\n",
       "</style>\n",
       "<table border=\"1\" class=\"dataframe\">\n",
       "  <thead>\n",
       "    <tr style=\"text-align: right;\">\n",
       "      <th></th>\n",
       "      <th>Unnamed: 0</th>\n",
       "      <th>ID</th>\n",
       "      <th>AGE</th>\n",
       "      <th>PackHistory</th>\n",
       "      <th>COPDSEVERITY</th>\n",
       "      <th>MWT1</th>\n",
       "      <th>MWT2</th>\n",
       "      <th>MWT1Best</th>\n",
       "      <th>FEV1</th>\n",
       "      <th>FEV1PRED</th>\n",
       "      <th>...</th>\n",
       "      <th>SGRQ</th>\n",
       "      <th>AGEquartiles</th>\n",
       "      <th>copd</th>\n",
       "      <th>gender</th>\n",
       "      <th>smoking</th>\n",
       "      <th>Diabetes</th>\n",
       "      <th>muscular</th>\n",
       "      <th>hypertension</th>\n",
       "      <th>AtrialFib</th>\n",
       "      <th>IHD</th>\n",
       "    </tr>\n",
       "  </thead>\n",
       "  <tbody>\n",
       "    <tr>\n",
       "      <td>0</td>\n",
       "      <td>1</td>\n",
       "      <td>58</td>\n",
       "      <td>77</td>\n",
       "      <td>60.0</td>\n",
       "      <td>SEVERE</td>\n",
       "      <td>120.0</td>\n",
       "      <td>120</td>\n",
       "      <td>120</td>\n",
       "      <td>1.21</td>\n",
       "      <td>36.0</td>\n",
       "      <td>...</td>\n",
       "      <td>69.55</td>\n",
       "      <td>4</td>\n",
       "      <td>3</td>\n",
       "      <td>1</td>\n",
       "      <td>2</td>\n",
       "      <td>1</td>\n",
       "      <td>0</td>\n",
       "      <td>0</td>\n",
       "      <td>1</td>\n",
       "      <td>0</td>\n",
       "    </tr>\n",
       "    <tr>\n",
       "      <td>1</td>\n",
       "      <td>2</td>\n",
       "      <td>57</td>\n",
       "      <td>79</td>\n",
       "      <td>50.0</td>\n",
       "      <td>MODERATE</td>\n",
       "      <td>165.0</td>\n",
       "      <td>176</td>\n",
       "      <td>176</td>\n",
       "      <td>1.09</td>\n",
       "      <td>56.0</td>\n",
       "      <td>...</td>\n",
       "      <td>44.24</td>\n",
       "      <td>4</td>\n",
       "      <td>2</td>\n",
       "      <td>0</td>\n",
       "      <td>2</td>\n",
       "      <td>1</td>\n",
       "      <td>0</td>\n",
       "      <td>0</td>\n",
       "      <td>1</td>\n",
       "      <td>1</td>\n",
       "    </tr>\n",
       "    <tr>\n",
       "      <td>2</td>\n",
       "      <td>3</td>\n",
       "      <td>62</td>\n",
       "      <td>80</td>\n",
       "      <td>11.0</td>\n",
       "      <td>MODERATE</td>\n",
       "      <td>201.0</td>\n",
       "      <td>180</td>\n",
       "      <td>201</td>\n",
       "      <td>1.52</td>\n",
       "      <td>68.0</td>\n",
       "      <td>...</td>\n",
       "      <td>44.09</td>\n",
       "      <td>4</td>\n",
       "      <td>2</td>\n",
       "      <td>0</td>\n",
       "      <td>2</td>\n",
       "      <td>1</td>\n",
       "      <td>0</td>\n",
       "      <td>0</td>\n",
       "      <td>1</td>\n",
       "      <td>0</td>\n",
       "    </tr>\n",
       "    <tr>\n",
       "      <td>3</td>\n",
       "      <td>4</td>\n",
       "      <td>145</td>\n",
       "      <td>56</td>\n",
       "      <td>60.0</td>\n",
       "      <td>VERY SEVERE</td>\n",
       "      <td>210.0</td>\n",
       "      <td>210</td>\n",
       "      <td>210</td>\n",
       "      <td>0.47</td>\n",
       "      <td>14.0</td>\n",
       "      <td>...</td>\n",
       "      <td>62.04</td>\n",
       "      <td>1</td>\n",
       "      <td>4</td>\n",
       "      <td>1</td>\n",
       "      <td>2</td>\n",
       "      <td>0</td>\n",
       "      <td>0</td>\n",
       "      <td>1</td>\n",
       "      <td>1</td>\n",
       "      <td>0</td>\n",
       "    </tr>\n",
       "    <tr>\n",
       "      <td>4</td>\n",
       "      <td>5</td>\n",
       "      <td>136</td>\n",
       "      <td>65</td>\n",
       "      <td>68.0</td>\n",
       "      <td>SEVERE</td>\n",
       "      <td>204.0</td>\n",
       "      <td>210</td>\n",
       "      <td>210</td>\n",
       "      <td>1.07</td>\n",
       "      <td>42.0</td>\n",
       "      <td>...</td>\n",
       "      <td>75.56</td>\n",
       "      <td>1</td>\n",
       "      <td>3</td>\n",
       "      <td>1</td>\n",
       "      <td>2</td>\n",
       "      <td>0</td>\n",
       "      <td>1</td>\n",
       "      <td>1</td>\n",
       "      <td>0</td>\n",
       "      <td>0</td>\n",
       "    </tr>\n",
       "    <tr>\n",
       "      <td>...</td>\n",
       "      <td>...</td>\n",
       "      <td>...</td>\n",
       "      <td>...</td>\n",
       "      <td>...</td>\n",
       "      <td>...</td>\n",
       "      <td>...</td>\n",
       "      <td>...</td>\n",
       "      <td>...</td>\n",
       "      <td>...</td>\n",
       "      <td>...</td>\n",
       "      <td>...</td>\n",
       "      <td>...</td>\n",
       "      <td>...</td>\n",
       "      <td>...</td>\n",
       "      <td>...</td>\n",
       "      <td>...</td>\n",
       "      <td>...</td>\n",
       "      <td>...</td>\n",
       "      <td>...</td>\n",
       "      <td>...</td>\n",
       "      <td>...</td>\n",
       "    </tr>\n",
       "    <tr>\n",
       "      <td>96</td>\n",
       "      <td>97</td>\n",
       "      <td>10</td>\n",
       "      <td>68</td>\n",
       "      <td>25.0</td>\n",
       "      <td>MILD</td>\n",
       "      <td>511.0</td>\n",
       "      <td>575</td>\n",
       "      <td>575</td>\n",
       "      <td>2.70</td>\n",
       "      <td>98.0</td>\n",
       "      <td>...</td>\n",
       "      <td>35.84</td>\n",
       "      <td>2</td>\n",
       "      <td>1</td>\n",
       "      <td>1</td>\n",
       "      <td>2</td>\n",
       "      <td>0</td>\n",
       "      <td>1</td>\n",
       "      <td>0</td>\n",
       "      <td>0</td>\n",
       "      <td>0</td>\n",
       "    </tr>\n",
       "    <tr>\n",
       "      <td>97</td>\n",
       "      <td>98</td>\n",
       "      <td>43</td>\n",
       "      <td>75</td>\n",
       "      <td>40.0</td>\n",
       "      <td>MILD</td>\n",
       "      <td>576.0</td>\n",
       "      <td>577</td>\n",
       "      <td>577</td>\n",
       "      <td>2.90</td>\n",
       "      <td>93.0</td>\n",
       "      <td>...</td>\n",
       "      <td>15.05</td>\n",
       "      <td>3</td>\n",
       "      <td>1</td>\n",
       "      <td>1</td>\n",
       "      <td>2</td>\n",
       "      <td>0</td>\n",
       "      <td>1</td>\n",
       "      <td>0</td>\n",
       "      <td>0</td>\n",
       "      <td>1</td>\n",
       "    </tr>\n",
       "    <tr>\n",
       "      <td>98</td>\n",
       "      <td>99</td>\n",
       "      <td>74</td>\n",
       "      <td>68</td>\n",
       "      <td>30.0</td>\n",
       "      <td>MODERATE</td>\n",
       "      <td>468.0</td>\n",
       "      <td>582</td>\n",
       "      <td>582</td>\n",
       "      <td>1.65</td>\n",
       "      <td>67.0</td>\n",
       "      <td>...</td>\n",
       "      <td>19.70</td>\n",
       "      <td>2</td>\n",
       "      <td>2</td>\n",
       "      <td>0</td>\n",
       "      <td>2</td>\n",
       "      <td>0</td>\n",
       "      <td>0</td>\n",
       "      <td>1</td>\n",
       "      <td>0</td>\n",
       "      <td>0</td>\n",
       "    </tr>\n",
       "    <tr>\n",
       "      <td>99</td>\n",
       "      <td>100</td>\n",
       "      <td>108</td>\n",
       "      <td>54</td>\n",
       "      <td>30.0</td>\n",
       "      <td>SEVERE</td>\n",
       "      <td>688.0</td>\n",
       "      <td>699</td>\n",
       "      <td>699</td>\n",
       "      <td>1.72</td>\n",
       "      <td>44.0</td>\n",
       "      <td>...</td>\n",
       "      <td>20.55</td>\n",
       "      <td>1</td>\n",
       "      <td>3</td>\n",
       "      <td>1</td>\n",
       "      <td>2</td>\n",
       "      <td>0</td>\n",
       "      <td>0</td>\n",
       "      <td>0</td>\n",
       "      <td>0</td>\n",
       "      <td>0</td>\n",
       "    </tr>\n",
       "    <tr>\n",
       "      <td>100</td>\n",
       "      <td>101</td>\n",
       "      <td>85</td>\n",
       "      <td>78</td>\n",
       "      <td>55.0</td>\n",
       "      <td>MODERATE</td>\n",
       "      <td>400.0</td>\n",
       "      <td>400</td>\n",
       "      <td>400</td>\n",
       "      <td>1.15</td>\n",
       "      <td>54.0</td>\n",
       "      <td>...</td>\n",
       "      <td>30.21</td>\n",
       "      <td>4</td>\n",
       "      <td>2</td>\n",
       "      <td>1</td>\n",
       "      <td>2</td>\n",
       "      <td>0</td>\n",
       "      <td>0</td>\n",
       "      <td>0</td>\n",
       "      <td>0</td>\n",
       "      <td>0</td>\n",
       "    </tr>\n",
       "  </tbody>\n",
       "</table>\n",
       "<p>101 rows × 24 columns</p>\n",
       "</div>"
      ],
      "text/plain": [
       "     Unnamed: 0   ID  AGE  PackHistory COPDSEVERITY   MWT1  MWT2  MWT1Best  \\\n",
       "0             1   58   77         60.0       SEVERE  120.0   120       120   \n",
       "1             2   57   79         50.0     MODERATE  165.0   176       176   \n",
       "2             3   62   80         11.0     MODERATE  201.0   180       201   \n",
       "3             4  145   56         60.0  VERY SEVERE  210.0   210       210   \n",
       "4             5  136   65         68.0       SEVERE  204.0   210       210   \n",
       "..          ...  ...  ...          ...          ...    ...   ...       ...   \n",
       "96           97   10   68         25.0         MILD  511.0   575       575   \n",
       "97           98   43   75         40.0         MILD  576.0   577       577   \n",
       "98           99   74   68         30.0     MODERATE  468.0   582       582   \n",
       "99          100  108   54         30.0       SEVERE  688.0   699       699   \n",
       "100         101   85   78         55.0     MODERATE  400.0   400       400   \n",
       "\n",
       "     FEV1  FEV1PRED  ...   SGRQ  AGEquartiles  copd  gender  smoking  \\\n",
       "0    1.21      36.0  ...  69.55             4     3       1        2   \n",
       "1    1.09      56.0  ...  44.24             4     2       0        2   \n",
       "2    1.52      68.0  ...  44.09             4     2       0        2   \n",
       "3    0.47      14.0  ...  62.04             1     4       1        2   \n",
       "4    1.07      42.0  ...  75.56             1     3       1        2   \n",
       "..    ...       ...  ...    ...           ...   ...     ...      ...   \n",
       "96   2.70      98.0  ...  35.84             2     1       1        2   \n",
       "97   2.90      93.0  ...  15.05             3     1       1        2   \n",
       "98   1.65      67.0  ...  19.70             2     2       0        2   \n",
       "99   1.72      44.0  ...  20.55             1     3       1        2   \n",
       "100  1.15      54.0  ...  30.21             4     2       1        2   \n",
       "\n",
       "     Diabetes  muscular  hypertension  AtrialFib  IHD  \n",
       "0           1         0             0          1    0  \n",
       "1           1         0             0          1    1  \n",
       "2           1         0             0          1    0  \n",
       "3           0         0             1          1    0  \n",
       "4           0         1             1          0    0  \n",
       "..        ...       ...           ...        ...  ...  \n",
       "96          0         1             0          0    0  \n",
       "97          0         1             0          0    1  \n",
       "98          0         0             1          0    0  \n",
       "99          0         0             0          0    0  \n",
       "100         0         0             0          0    0  \n",
       "\n",
       "[101 rows x 24 columns]"
      ]
     },
     "execution_count": 3,
     "metadata": {},
     "output_type": "execute_result"
    }
   ],
   "source": [
    "df"
   ]
  },
  {
   "cell_type": "markdown",
   "metadata": {},
   "source": [
    "As you can see once install from the data set has 24 Colums and 100 rows of data, and at initial glance you can see that COPDSEVERITY is the categorical text column of copd which is the \"dummies\", so I will drop the COPDSEVERITY column"
   ]
  },
  {
   "cell_type": "code",
   "execution_count": 4,
   "metadata": {},
   "outputs": [],
   "source": [
    "df = df.dropna()\n",
    "df1= df.drop('COPDSEVERITY', axis = 1)\n",
    "dfglm= df1"
   ]
  },
  {
   "cell_type": "markdown",
   "metadata": {},
   "source": [
    "In the Data Set you can see three variables MWT1, MWT2, MWT1Best, from the literature that is available for the Data these variable are 2 different fitness test and the best result of the 2 fitness test. So lets drop MWT1 and MWT2 and keep MWT1Best as the main outcome variable for the rest of our testing"
   ]
  },
  {
   "cell_type": "code",
   "execution_count": 5,
   "metadata": {},
   "outputs": [
    {
     "data": {
      "text/html": [
       "<div>\n",
       "<style scoped>\n",
       "    .dataframe tbody tr th:only-of-type {\n",
       "        vertical-align: middle;\n",
       "    }\n",
       "\n",
       "    .dataframe tbody tr th {\n",
       "        vertical-align: top;\n",
       "    }\n",
       "\n",
       "    .dataframe thead th {\n",
       "        text-align: right;\n",
       "    }\n",
       "</style>\n",
       "<table border=\"1\" class=\"dataframe\">\n",
       "  <thead>\n",
       "    <tr style=\"text-align: right;\">\n",
       "      <th></th>\n",
       "      <th>ID</th>\n",
       "      <th>AGE</th>\n",
       "      <th>PackHistory</th>\n",
       "      <th>FEV1</th>\n",
       "      <th>FEV1PRED</th>\n",
       "      <th>FVC</th>\n",
       "      <th>FVCPRED</th>\n",
       "      <th>CAT</th>\n",
       "      <th>HAD</th>\n",
       "      <th>SGRQ</th>\n",
       "      <th>AGEquartiles</th>\n",
       "      <th>copd</th>\n",
       "      <th>gender</th>\n",
       "      <th>smoking</th>\n",
       "      <th>Diabetes</th>\n",
       "      <th>muscular</th>\n",
       "      <th>hypertension</th>\n",
       "      <th>AtrialFib</th>\n",
       "      <th>IHD</th>\n",
       "    </tr>\n",
       "  </thead>\n",
       "  <tbody>\n",
       "    <tr>\n",
       "      <td>0</td>\n",
       "      <td>58</td>\n",
       "      <td>77</td>\n",
       "      <td>60.0</td>\n",
       "      <td>1.21</td>\n",
       "      <td>36.0</td>\n",
       "      <td>2.40</td>\n",
       "      <td>98</td>\n",
       "      <td>25</td>\n",
       "      <td>8.0</td>\n",
       "      <td>69.55</td>\n",
       "      <td>4</td>\n",
       "      <td>3</td>\n",
       "      <td>1</td>\n",
       "      <td>2</td>\n",
       "      <td>1</td>\n",
       "      <td>0</td>\n",
       "      <td>0</td>\n",
       "      <td>1</td>\n",
       "      <td>0</td>\n",
       "    </tr>\n",
       "    <tr>\n",
       "      <td>1</td>\n",
       "      <td>57</td>\n",
       "      <td>79</td>\n",
       "      <td>50.0</td>\n",
       "      <td>1.09</td>\n",
       "      <td>56.0</td>\n",
       "      <td>1.64</td>\n",
       "      <td>65</td>\n",
       "      <td>12</td>\n",
       "      <td>21.0</td>\n",
       "      <td>44.24</td>\n",
       "      <td>4</td>\n",
       "      <td>2</td>\n",
       "      <td>0</td>\n",
       "      <td>2</td>\n",
       "      <td>1</td>\n",
       "      <td>0</td>\n",
       "      <td>0</td>\n",
       "      <td>1</td>\n",
       "      <td>1</td>\n",
       "    </tr>\n",
       "    <tr>\n",
       "      <td>2</td>\n",
       "      <td>62</td>\n",
       "      <td>80</td>\n",
       "      <td>11.0</td>\n",
       "      <td>1.52</td>\n",
       "      <td>68.0</td>\n",
       "      <td>2.30</td>\n",
       "      <td>86</td>\n",
       "      <td>22</td>\n",
       "      <td>18.0</td>\n",
       "      <td>44.09</td>\n",
       "      <td>4</td>\n",
       "      <td>2</td>\n",
       "      <td>0</td>\n",
       "      <td>2</td>\n",
       "      <td>1</td>\n",
       "      <td>0</td>\n",
       "      <td>0</td>\n",
       "      <td>1</td>\n",
       "      <td>0</td>\n",
       "    </tr>\n",
       "    <tr>\n",
       "      <td>3</td>\n",
       "      <td>145</td>\n",
       "      <td>56</td>\n",
       "      <td>60.0</td>\n",
       "      <td>0.47</td>\n",
       "      <td>14.0</td>\n",
       "      <td>1.14</td>\n",
       "      <td>27</td>\n",
       "      <td>28</td>\n",
       "      <td>26.0</td>\n",
       "      <td>62.04</td>\n",
       "      <td>1</td>\n",
       "      <td>4</td>\n",
       "      <td>1</td>\n",
       "      <td>2</td>\n",
       "      <td>0</td>\n",
       "      <td>0</td>\n",
       "      <td>1</td>\n",
       "      <td>1</td>\n",
       "      <td>0</td>\n",
       "    </tr>\n",
       "    <tr>\n",
       "      <td>4</td>\n",
       "      <td>136</td>\n",
       "      <td>65</td>\n",
       "      <td>68.0</td>\n",
       "      <td>1.07</td>\n",
       "      <td>42.0</td>\n",
       "      <td>2.91</td>\n",
       "      <td>98</td>\n",
       "      <td>32</td>\n",
       "      <td>18.0</td>\n",
       "      <td>75.56</td>\n",
       "      <td>1</td>\n",
       "      <td>3</td>\n",
       "      <td>1</td>\n",
       "      <td>2</td>\n",
       "      <td>0</td>\n",
       "      <td>1</td>\n",
       "      <td>1</td>\n",
       "      <td>0</td>\n",
       "      <td>0</td>\n",
       "    </tr>\n",
       "  </tbody>\n",
       "</table>\n",
       "</div>"
      ],
      "text/plain": [
       "    ID  AGE  PackHistory  FEV1  FEV1PRED   FVC  FVCPRED  CAT   HAD   SGRQ  \\\n",
       "0   58   77         60.0  1.21      36.0  2.40       98   25   8.0  69.55   \n",
       "1   57   79         50.0  1.09      56.0  1.64       65   12  21.0  44.24   \n",
       "2   62   80         11.0  1.52      68.0  2.30       86   22  18.0  44.09   \n",
       "3  145   56         60.0  0.47      14.0  1.14       27   28  26.0  62.04   \n",
       "4  136   65         68.0  1.07      42.0  2.91       98   32  18.0  75.56   \n",
       "\n",
       "   AGEquartiles  copd  gender  smoking  Diabetes  muscular  hypertension  \\\n",
       "0             4     3       1        2         1         0             0   \n",
       "1             4     2       0        2         1         0             0   \n",
       "2             4     2       0        2         1         0             0   \n",
       "3             1     4       1        2         0         0             1   \n",
       "4             1     3       1        2         0         1             1   \n",
       "\n",
       "   AtrialFib  IHD  \n",
       "0          1    0  \n",
       "1          1    1  \n",
       "2          1    0  \n",
       "3          1    0  \n",
       "4          0    0  "
      ]
     },
     "execution_count": 5,
     "metadata": {},
     "output_type": "execute_result"
    }
   ],
   "source": [
    "y = df1.MWT1Best\n",
    "df1= df1.drop(['Unnamed: 0', 'MWT1Best', 'MWT1', 'MWT2'], axis=1)\n",
    "dfglm1= dfglm.drop(['Unnamed: 0', 'MWT1', 'MWT2'], axis=1)\n",
    "df1.head()"
   ]
  },
  {
   "cell_type": "markdown",
   "metadata": {},
   "source": [
    "MWT1Best is the result of 2 fitness walking tests provided to all participants, lets check if this particular variable is sound before we go too much further"
   ]
  },
  {
   "cell_type": "code",
   "execution_count": 6,
   "metadata": {},
   "outputs": [
    {
     "data": {
      "text/plain": [
       "-0.27776381607590855"
      ]
     },
     "execution_count": 6,
     "metadata": {},
     "output_type": "execute_result"
    }
   ],
   "source": [
    "y.skew()"
   ]
  },
  {
   "cell_type": "markdown",
   "metadata": {},
   "source": [
    "With a skew of just -0.27 this is easily with normal bounds"
   ]
  },
  {
   "cell_type": "code",
   "execution_count": 7,
   "metadata": {},
   "outputs": [
    {
     "data": {
      "text/plain": [
       "<matplotlib.axes._subplots.AxesSubplot at 0x20ae9daf948>"
      ]
     },
     "execution_count": 7,
     "metadata": {},
     "output_type": "execute_result"
    },
    {
     "data": {
      "image/png": "[encoded data removed]",
      "text/plain": [
       "<Figure size 432x288 with 1 Axes>"
      ]
     },
     "metadata": {
      "needs_background": "light"
     },
     "output_type": "display_data"
    }
   ],
   "source": [
    "y.plot.density()"
   ]
  },
  {
   "cell_type": "markdown",
   "metadata": {},
   "source": [
    "Although there is a slight negative skew to the MWT1Best data its within normal bounds of +/-1"
   ]
  },
  {
   "cell_type": "code",
   "execution_count": 8,
   "metadata": {},
   "outputs": [
    {
     "data": {
      "text/plain": [
       "-0.7498463364622273"
      ]
     },
     "execution_count": 8,
     "metadata": {},
     "output_type": "execute_result"
    }
   ],
   "source": [
    "age = df.AGE\n",
    "age.skew()\n"
   ]
  },
  {
   "cell_type": "markdown",
   "metadata": {},
   "source": [
    "Many people consider Age as a variable of interest when evaluating fitness tests and the effects of COPD, once again being within  +/- 1 this variable can be considered normal"
   ]
  },
  {
   "cell_type": "code",
   "execution_count": 9,
   "metadata": {},
   "outputs": [
    {
     "data": {
      "text/plain": [
       "<matplotlib.axes._subplots.AxesSubplot at 0x20aea117548>"
      ]
     },
     "execution_count": 9,
     "metadata": {},
     "output_type": "execute_result"
    },
    {
     "data": {
      "image/png": "[encoded data removed]",
      "text/plain": [
       "<Figure size 432x288 with 1 Axes>"
      ]
     },
     "metadata": {
      "needs_background": "light"
     },
     "output_type": "display_data"
    }
   ],
   "source": [
    "age.plot.density()\n"
   ]
  },
  {
   "cell_type": "code",
   "execution_count": 10,
   "metadata": {},
   "outputs": [
    {
     "data": {
      "image/png": "[encoded data removed]",
      "text/plain": [
       "<Figure size 432x288 with 1 Axes>"
      ]
     },
     "metadata": {
      "needs_background": "light"
     },
     "output_type": "display_data"
    }
   ],
   "source": [
    "plt.scatter(age, y, c='r')\n",
    "plt.xlabel('Age')\n",
    "plt.ylabel('Best Fit Test Performance')\n",
    "plt.show()"
   ]
  },
  {
   "cell_type": "markdown",
   "metadata": {},
   "source": [
    "However performing a scatter plot of these two variables you can clearly see a lot of variation, so lets analyse the entire dataset and the coefficients in regards to MWT1Best."
   ]
  },
  {
   "cell_type": "markdown",
   "metadata": {},
   "source": [
    "## Exploratory Lasso Regression "
   ]
  },
  {
   "cell_type": "code",
   "execution_count": 11,
   "metadata": {},
   "outputs": [
    {
     "name": "stdout",
     "output_type": "stream",
     "text": [
      "[ -0.          -2.92692088  -0.43769928   0.           0.\n",
      "  19.39536252  -0.3838877   -0.          -1.02897462  -2.10696803\n",
      "  -0.         -15.79665489   0.          -0.         -17.23094202\n",
      "   0.           0.         -82.10405997  30.43677766]\n"
     ]
    },
    {
     "data": {
      "image/png": "[encoded data removed]",
      "text/plain": [
       "<Figure size 432x288 with 1 Axes>"
      ]
     },
     "metadata": {
      "needs_background": "light"
     },
     "output_type": "display_data"
    }
   ],
   "source": [
    "from sklearn.linear_model import Lasso\n",
    "lasso = Lasso(alpha= 0.4, normalize= True)\n",
    "names =df1.columns\n",
    "lasso.fit(df1, y)\n",
    "lasso_coef = lasso.coef_\n",
    "print(lasso_coef)\n",
    "plt.plot(range(len(names)), lasso_coef)\n",
    "plt.xticks(range(len(names)), names, rotation=60)\n",
    "plt.ylabel('Coefficients')\n",
    "plt.margins(0.02)\n",
    "plt.show()"
   ]
  },
  {
   "cell_type": "markdown",
   "metadata": {},
   "source": [
    "Looking at the Data Set as a whole you can clearly seethere is only 5 significant coefficients of interest so lets clean the data set further and prepare data sets for further testing"
   ]
  },
  {
   "cell_type": "code",
   "execution_count": 12,
   "metadata": {},
   "outputs": [],
   "source": [
    "df2= df1[[\"AGE\", \"Diabetes\", \"AtrialFib\", \"IHD\", 'gender']]\n",
    "dfglm2 = dfglm1.drop(['ID', 'FEV1', 'FEV1PRED', 'AGEquartiles', 'CAT', 'HAD', 'copd', 'PackHistory', 'FVCPRED', 'SGRQ', 'smoking', 'muscular', 'hypertension'], axis=1)\n",
    "dfglm2train = dfglm2[0:60]\n",
    "dfglm2test = dfglm2[61:100]\n"
   ]
  },
  {
   "cell_type": "markdown",
   "metadata": {},
   "source": [
    "For demonstration purposes you can either subset the variables you need or drop the variables you don't need when creating a new data set"
   ]
  },
  {
   "cell_type": "code",
   "execution_count": 13,
   "metadata": {},
   "outputs": [
    {
     "data": {
      "text/plain": [
       "<seaborn.axisgrid.PairGrid at 0x20aea407788>"
      ]
     },
     "execution_count": 13,
     "metadata": {},
     "output_type": "execute_result"
    },
    {
     "data": {
      "image/png": "[encoded data removed]",
      "text/plain": [
       "<Figure size 900x900 with 30 Axes>"
      ]
     },
     "metadata": {
      "needs_background": "light"
     },
     "output_type": "display_data"
    }
   ],
   "source": [
    "df2.head()\n",
    "sns.pairplot(df2, diag_kind=\"kde\")"
   ]
  },
  {
   "cell_type": "markdown",
   "metadata": {},
   "source": [
    "Inspecting the data above you can clearly see a lot of binary variables this potentially might provide an issue when considering linear regression for the normal outcome variable of MWT1Best"
   ]
  },
  {
   "cell_type": "markdown",
   "metadata": {},
   "source": [
    "## Lasso Regression: with a reduced dataset we are going to perform more regression to see what results we can achieve"
   ]
  },
  {
   "cell_type": "code",
   "execution_count": 14,
   "metadata": {},
   "outputs": [],
   "source": [
    "from sklearn.model_selection import train_test_split\n",
    "import numpy as np\n",
    "from sklearn import linear_model"
   ]
  },
  {
   "cell_type": "code",
   "execution_count": 15,
   "metadata": {},
   "outputs": [],
   "source": [
    "X_train, X_test, y_train, y_test = train_test_split(df2, y, test_size=0.4, random_state=42)"
   ]
  },
  {
   "cell_type": "code",
   "execution_count": 16,
   "metadata": {},
   "outputs": [
    {
     "name": "stdout",
     "output_type": "stream",
     "text": [
      "[ -3.06899008 -73.93487912 -96.18279241  28.3560139   18.62841969]\n"
     ]
    },
    {
     "data": {
      "image/png": "[encoded data removed]",
      "text/plain": [
       "<Figure size 432x288 with 1 Axes>"
      ]
     },
     "metadata": {
      "needs_background": "light"
     },
     "output_type": "display_data"
    }
   ],
   "source": [
    "lasso = Lasso(alpha= 0.4, normalize= True)\n",
    "names =X_train.columns\n",
    "lasso.fit(X_train, y_train)\n",
    "lasso_coef = lasso.coef_\n",
    "print(lasso_coef)\n",
    "plt.plot(range(len(names)), lasso_coef)\n",
    "plt.xticks(range(len(names)), names, rotation=60)\n",
    "plt.ylabel('Coefficients')\n",
    "plt.margins(0.02)\n",
    "plt.show()"
   ]
  },
  {
   "cell_type": "markdown",
   "metadata": {},
   "source": [
    "As you can see all variables now have quite a pronouced effect on the outcome variable of the Walking test in Meters (MWT1Best)"
   ]
  },
  {
   "cell_type": "code",
   "execution_count": 17,
   "metadata": {},
   "outputs": [],
   "source": [
    "lm = linear_model.LinearRegression()\n",
    "model = lm.fit(X_train,y_train)"
   ]
  },
  {
   "cell_type": "code",
   "execution_count": 18,
   "metadata": {},
   "outputs": [],
   "source": [
    "predictions = lm.predict(X_test)"
   ]
  },
  {
   "cell_type": "code",
   "execution_count": 19,
   "metadata": {},
   "outputs": [
    {
     "data": {
      "text/plain": [
       "0.2368354411577469"
      ]
     },
     "execution_count": 19,
     "metadata": {},
     "output_type": "execute_result"
    }
   ],
   "source": [
    "lm.score(X_test,y_test)"
   ]
  },
  {
   "cell_type": "markdown",
   "metadata": {},
   "source": [
    "With an R^2 score of 0.24, this figure is similar to figures obtained during the Imperial College London R Linear Regression Course Public Health Course which I completed"
   ]
  },
  {
   "cell_type": "code",
   "execution_count": 20,
   "metadata": {},
   "outputs": [
    {
     "data": {
      "text/plain": [
       "92.89936343465062"
      ]
     },
     "execution_count": 20,
     "metadata": {},
     "output_type": "execute_result"
    }
   ],
   "source": [
    "from sklearn.metrics import mean_squared_error\n",
    "from math import sqrt\n",
    "rms = sqrt(mean_squared_error(y_test, predictions))\n",
    "rms"
   ]
  },
  {
   "cell_type": "markdown",
   "metadata": {},
   "source": [
    "However, with a Root Mean Square Error of 93 Meters this is far from ideal, and comparing this to Lasso regression just below the results are slightly worse with a Root Mean Squared of 93.5 Meters and an R^2 of 0.22.\n",
    "\n"
   ]
  },
  {
   "cell_type": "code",
   "execution_count": 21,
   "metadata": {},
   "outputs": [
    {
     "data": {
      "text/plain": [
       "93.50334535393826"
      ]
     },
     "execution_count": 21,
     "metadata": {},
     "output_type": "execute_result"
    }
   ],
   "source": [
    "lasso = Lasso(alpha= 1.5\n",
    "            , normalize= True)\n",
    "modellasso = lasso.fit(X_train, y_train)\n",
    "predictions = modellasso.predict(X_test)\n",
    "r2 = modellasso.score(X_test, y_test)\n",
    "rms = sqrt(mean_squared_error(y_test, predictions))\n",
    "rms"
   ]
  },
  {
   "cell_type": "code",
   "execution_count": 22,
   "metadata": {},
   "outputs": [
    {
     "data": {
      "text/plain": [
       "0.22687980825339693"
      ]
     },
     "execution_count": 22,
     "metadata": {},
     "output_type": "execute_result"
    }
   ],
   "source": [
    "r2"
   ]
  },
  {
   "cell_type": "markdown",
   "metadata": {},
   "source": [
    "# TensorFlow Linear Regression"
   ]
  },
  {
   "cell_type": "markdown",
   "metadata": {},
   "source": [
    "This will help resolve whether there is a linear relationship between the various independent and dependent variables"
   ]
  },
  {
   "cell_type": "code",
   "execution_count": 23,
   "metadata": {},
   "outputs": [
    {
     "data": {
      "text/html": [
       "<div>\n",
       "<style scoped>\n",
       "    .dataframe tbody tr th:only-of-type {\n",
       "        vertical-align: middle;\n",
       "    }\n",
       "\n",
       "    .dataframe tbody tr th {\n",
       "        vertical-align: top;\n",
       "    }\n",
       "\n",
       "    .dataframe thead th {\n",
       "        text-align: right;\n",
       "    }\n",
       "</style>\n",
       "<table border=\"1\" class=\"dataframe\">\n",
       "  <thead>\n",
       "    <tr style=\"text-align: right;\">\n",
       "      <th></th>\n",
       "      <th>AGE</th>\n",
       "      <th>MWT1Best</th>\n",
       "      <th>FVC</th>\n",
       "      <th>gender</th>\n",
       "      <th>Diabetes</th>\n",
       "      <th>AtrialFib</th>\n",
       "      <th>IHD</th>\n",
       "    </tr>\n",
       "  </thead>\n",
       "  <tbody>\n",
       "    <tr>\n",
       "      <td>0</td>\n",
       "      <td>77</td>\n",
       "      <td>120</td>\n",
       "      <td>2.40</td>\n",
       "      <td>1</td>\n",
       "      <td>1</td>\n",
       "      <td>1</td>\n",
       "      <td>0</td>\n",
       "    </tr>\n",
       "    <tr>\n",
       "      <td>1</td>\n",
       "      <td>79</td>\n",
       "      <td>176</td>\n",
       "      <td>1.64</td>\n",
       "      <td>0</td>\n",
       "      <td>1</td>\n",
       "      <td>1</td>\n",
       "      <td>1</td>\n",
       "    </tr>\n",
       "    <tr>\n",
       "      <td>2</td>\n",
       "      <td>80</td>\n",
       "      <td>201</td>\n",
       "      <td>2.30</td>\n",
       "      <td>0</td>\n",
       "      <td>1</td>\n",
       "      <td>1</td>\n",
       "      <td>0</td>\n",
       "    </tr>\n",
       "    <tr>\n",
       "      <td>3</td>\n",
       "      <td>56</td>\n",
       "      <td>210</td>\n",
       "      <td>1.14</td>\n",
       "      <td>1</td>\n",
       "      <td>0</td>\n",
       "      <td>1</td>\n",
       "      <td>0</td>\n",
       "    </tr>\n",
       "    <tr>\n",
       "      <td>4</td>\n",
       "      <td>65</td>\n",
       "      <td>210</td>\n",
       "      <td>2.91</td>\n",
       "      <td>1</td>\n",
       "      <td>0</td>\n",
       "      <td>0</td>\n",
       "      <td>0</td>\n",
       "    </tr>\n",
       "  </tbody>\n",
       "</table>\n",
       "</div>"
      ],
      "text/plain": [
       "   AGE  MWT1Best   FVC  gender  Diabetes  AtrialFib  IHD\n",
       "0   77       120  2.40       1         1          1    0\n",
       "1   79       176  1.64       0         1          1    1\n",
       "2   80       201  2.30       0         1          1    0\n",
       "3   56       210  1.14       1         0          1    0\n",
       "4   65       210  2.91       1         0          0    0"
      ]
     },
     "execution_count": 23,
     "metadata": {},
     "output_type": "execute_result"
    }
   ],
   "source": [
    "dfglm2train.head()"
   ]
  },
  {
   "cell_type": "code",
   "execution_count": 24,
   "metadata": {},
   "outputs": [],
   "source": [
    "best = np.array(dfglm2train['MWT1Best'], np.float32)\n",
    "age= np.array(dfglm2train['AGE'], np.float32)\n",
    "FVC= np.array(dfglm2train['FVC'], np.float32)\n",
    "diabetes = np.array(dfglm2train['Diabetes'], np.float32)\n",
    "atrial= np.array(dfglm2train['AtrialFib'], np.float32)\n",
    "ihd= np.array(dfglm2train['IHD'], np.float32)\n"
   ]
  },
  {
   "cell_type": "code",
   "execution_count": 25,
   "metadata": {},
   "outputs": [],
   "source": [
    "params = tf.Variable([1.5,1.5,1.5,1.5,1.5,1.5,1.5], np.float32)"
   ]
  },
  {
   "cell_type": "code",
   "execution_count": 26,
   "metadata": {},
   "outputs": [],
   "source": [
    "def linear_regression(params, feature1 = age, feature2 = FVC, feature3 =diabetes, feature4 =atrial, feature5 =ihd):\n",
    "    return params[0] + feature1*params[1] + feature2*params[2] + feature3*params[3] + feature4*params[4] + feature5*params[5]"
   ]
  },
  {
   "cell_type": "code",
   "execution_count": 27,
   "metadata": {},
   "outputs": [],
   "source": [
    "def loss_function(params, targets = best, feature1 = age, feature2 = FVC, feature3 =diabetes, feature4 =atrial, feature5 =ihd):\n",
    "    predictions = linear_regression(params, feature1, feature2, feature3, feature4, feature5)\n",
    "    return keras.losses.mse(targets, predictions)"
   ]
  },
  {
   "cell_type": "code",
   "execution_count": 28,
   "metadata": {},
   "outputs": [],
   "source": [
    "opt = tf.keras.optimizers.Adam()"
   ]
  },
  {
   "cell_type": "code",
   "execution_count": 29,
   "metadata": {},
   "outputs": [],
   "source": [
    "for j in range(2000):\n",
    "    opt.minimize(lambda: loss_function(params), var_list=[params])"
   ]
  },
  {
   "cell_type": "code",
   "execution_count": 30,
   "metadata": {},
   "outputs": [],
   "source": [
    "mse = loss_function(params).numpy()"
   ]
  },
  {
   "cell_type": "code",
   "execution_count": 31,
   "metadata": {},
   "outputs": [
    {
     "data": {
      "text/plain": [
       "126.4258714684716"
      ]
     },
     "execution_count": 31,
     "metadata": {},
     "output_type": "execute_result"
    }
   ],
   "source": [
    "import math\n",
    "rmse = math.sqrt(mse)\n",
    "rmse"
   ]
  },
  {
   "cell_type": "code",
   "execution_count": 32,
   "metadata": {},
   "outputs": [
    {
     "data": {
      "text/plain": [
       "-4.1013839941857935"
      ]
     },
     "execution_count": 32,
     "metadata": {},
     "output_type": "execute_result"
    }
   ],
   "source": [
    "npredictions = np.delete(predictions, [1], None)\n",
    "r2_score(dfglm2test['MWT1Best'], npredictions)"
   ]
  },
  {
   "cell_type": "markdown",
   "metadata": {},
   "source": [
    "There is far more that could be done to tune, a TensorFlow Linear Regression model however with an R^2 of -4.1 this will be abandoned \n",
    "as the relationship is likely non linear\n",
    "\n"
   ]
  },
  {
   "cell_type": "markdown",
   "metadata": {},
   "source": [
    "#  Deep Neural Networks, TensorFlow and Keras"
   ]
  },
  {
   "cell_type": "code",
   "execution_count": 33,
   "metadata": {},
   "outputs": [],
   "source": [
    "from __future__ import absolute_import, division, print_function, unicode_literals\n",
    "import pathlib"
   ]
  },
  {
   "cell_type": "code",
   "execution_count": 34,
   "metadata": {},
   "outputs": [],
   "source": [
    "dataset = pd.read_csv(r\"C:\\Users\\dougl\\OneDrive\\Desktop\\VYLgxg9YEemU7w7-EFnPcg_5645e2700f5811e9b2f4133a1edfbb40_COPD_student_dataset.csv\")"
   ]
  },
  {
   "cell_type": "markdown",
   "metadata": {},
   "source": [
    "I am reloading the dataset to make sure I have new data, however it also require recleaning"
   ]
  },
  {
   "cell_type": "code",
   "execution_count": 35,
   "metadata": {},
   "outputs": [],
   "source": [
    "dataset = dataset.dropna()"
   ]
  },
  {
   "cell_type": "code",
   "execution_count": 36,
   "metadata": {},
   "outputs": [],
   "source": [
    "dataset = dataset[[\"AGE\", \"MWT1Best\", \"Diabetes\", \"AtrialFib\", \"IHD\", \"gender\", \"muscular\", \"SGRQ\", 'FVCPRED']]"
   ]
  },
  {
   "cell_type": "markdown",
   "metadata": {},
   "source": [
    "Being developed in C++ Tensorflow is very efficient and able to handle more variables with ease"
   ]
  },
  {
   "cell_type": "code",
   "execution_count": 37,
   "metadata": {},
   "outputs": [],
   "source": [
    "train_dataset = dataset.sample(frac=0.6,random_state=0)\n",
    "test_dataset = dataset.drop(train_dataset.index)"
   ]
  },
  {
   "cell_type": "markdown",
   "metadata": {},
   "source": [
    "The stats of the Target/Dependent Variable"
   ]
  },
  {
   "cell_type": "code",
   "execution_count": 38,
   "metadata": {},
   "outputs": [
    {
     "data": {
      "text/plain": [
       "count     60.000000\n",
       "mean     379.633333\n",
       "std      105.837254\n",
       "min      120.000000\n",
       "25%      297.250000\n",
       "50%      401.000000\n",
       "75%      454.500000\n",
       "max      575.000000\n",
       "Name: MWT1Best, dtype: float64"
      ]
     },
     "execution_count": 38,
     "metadata": {},
     "output_type": "execute_result"
    }
   ],
   "source": [
    "train_dataset['MWT1Best'].describe()"
   ]
  },
  {
   "cell_type": "code",
   "execution_count": 39,
   "metadata": {},
   "outputs": [
    {
     "data": {
      "text/plain": [
       "count     40.000000\n",
       "mean     427.375000\n",
       "std      102.133821\n",
       "min      240.000000\n",
       "25%      369.000000\n",
       "50%      454.000000\n",
       "75%      489.750000\n",
       "max      699.000000\n",
       "Name: MWT1Best, dtype: float64"
      ]
     },
     "execution_count": 39,
     "metadata": {},
     "output_type": "execute_result"
    }
   ],
   "source": [
    "test_dataset['MWT1Best'].describe()"
   ]
  },
  {
   "cell_type": "code",
   "execution_count": 40,
   "metadata": {},
   "outputs": [
    {
     "data": {
      "text/html": [
       "<div>\n",
       "<style scoped>\n",
       "    .dataframe tbody tr th:only-of-type {\n",
       "        vertical-align: middle;\n",
       "    }\n",
       "\n",
       "    .dataframe tbody tr th {\n",
       "        vertical-align: top;\n",
       "    }\n",
       "\n",
       "    .dataframe thead th {\n",
       "        text-align: right;\n",
       "    }\n",
       "</style>\n",
       "<table border=\"1\" class=\"dataframe\">\n",
       "  <thead>\n",
       "    <tr style=\"text-align: right;\">\n",
       "      <th></th>\n",
       "      <th>count</th>\n",
       "      <th>mean</th>\n",
       "      <th>std</th>\n",
       "      <th>min</th>\n",
       "      <th>25%</th>\n",
       "      <th>50%</th>\n",
       "      <th>75%</th>\n",
       "      <th>max</th>\n",
       "    </tr>\n",
       "  </thead>\n",
       "  <tbody>\n",
       "    <tr>\n",
       "      <td>AGE</td>\n",
       "      <td>60.0</td>\n",
       "      <td>70.450000</td>\n",
       "      <td>8.261458</td>\n",
       "      <td>44.00</td>\n",
       "      <td>67.0000</td>\n",
       "      <td>72.000</td>\n",
       "      <td>76.2500</td>\n",
       "      <td>83.00</td>\n",
       "    </tr>\n",
       "    <tr>\n",
       "      <td>Diabetes</td>\n",
       "      <td>60.0</td>\n",
       "      <td>0.216667</td>\n",
       "      <td>0.415450</td>\n",
       "      <td>0.00</td>\n",
       "      <td>0.0000</td>\n",
       "      <td>0.000</td>\n",
       "      <td>0.0000</td>\n",
       "      <td>1.00</td>\n",
       "    </tr>\n",
       "    <tr>\n",
       "      <td>AtrialFib</td>\n",
       "      <td>60.0</td>\n",
       "      <td>0.250000</td>\n",
       "      <td>0.436667</td>\n",
       "      <td>0.00</td>\n",
       "      <td>0.0000</td>\n",
       "      <td>0.000</td>\n",
       "      <td>0.2500</td>\n",
       "      <td>1.00</td>\n",
       "    </tr>\n",
       "    <tr>\n",
       "      <td>IHD</td>\n",
       "      <td>60.0</td>\n",
       "      <td>0.066667</td>\n",
       "      <td>0.251549</td>\n",
       "      <td>0.00</td>\n",
       "      <td>0.0000</td>\n",
       "      <td>0.000</td>\n",
       "      <td>0.0000</td>\n",
       "      <td>1.00</td>\n",
       "    </tr>\n",
       "    <tr>\n",
       "      <td>gender</td>\n",
       "      <td>60.0</td>\n",
       "      <td>0.683333</td>\n",
       "      <td>0.469102</td>\n",
       "      <td>0.00</td>\n",
       "      <td>0.0000</td>\n",
       "      <td>1.000</td>\n",
       "      <td>1.0000</td>\n",
       "      <td>1.00</td>\n",
       "    </tr>\n",
       "    <tr>\n",
       "      <td>muscular</td>\n",
       "      <td>60.0</td>\n",
       "      <td>0.200000</td>\n",
       "      <td>0.403376</td>\n",
       "      <td>0.00</td>\n",
       "      <td>0.0000</td>\n",
       "      <td>0.000</td>\n",
       "      <td>0.0000</td>\n",
       "      <td>1.00</td>\n",
       "    </tr>\n",
       "    <tr>\n",
       "      <td>SGRQ</td>\n",
       "      <td>60.0</td>\n",
       "      <td>43.976333</td>\n",
       "      <td>18.130675</td>\n",
       "      <td>8.25</td>\n",
       "      <td>31.8375</td>\n",
       "      <td>38.655</td>\n",
       "      <td>58.5025</td>\n",
       "      <td>77.44</td>\n",
       "    </tr>\n",
       "    <tr>\n",
       "      <td>FVCPRED</td>\n",
       "      <td>60.0</td>\n",
       "      <td>82.433333</td>\n",
       "      <td>19.680815</td>\n",
       "      <td>27.00</td>\n",
       "      <td>70.0000</td>\n",
       "      <td>82.500</td>\n",
       "      <td>98.5000</td>\n",
       "      <td>122.00</td>\n",
       "    </tr>\n",
       "  </tbody>\n",
       "</table>\n",
       "</div>"
      ],
      "text/plain": [
       "           count       mean        std    min      25%     50%      75%  \\\n",
       "AGE         60.0  70.450000   8.261458  44.00  67.0000  72.000  76.2500   \n",
       "Diabetes    60.0   0.216667   0.415450   0.00   0.0000   0.000   0.0000   \n",
       "AtrialFib   60.0   0.250000   0.436667   0.00   0.0000   0.000   0.2500   \n",
       "IHD         60.0   0.066667   0.251549   0.00   0.0000   0.000   0.0000   \n",
       "gender      60.0   0.683333   0.469102   0.00   0.0000   1.000   1.0000   \n",
       "muscular    60.0   0.200000   0.403376   0.00   0.0000   0.000   0.0000   \n",
       "SGRQ        60.0  43.976333  18.130675   8.25  31.8375  38.655  58.5025   \n",
       "FVCPRED     60.0  82.433333  19.680815  27.00  70.0000  82.500  98.5000   \n",
       "\n",
       "              max  \n",
       "AGE         83.00  \n",
       "Diabetes     1.00  \n",
       "AtrialFib    1.00  \n",
       "IHD          1.00  \n",
       "gender       1.00  \n",
       "muscular     1.00  \n",
       "SGRQ        77.44  \n",
       "FVCPRED    122.00  "
      ]
     },
     "execution_count": 40,
     "metadata": {},
     "output_type": "execute_result"
    }
   ],
   "source": [
    "train_stats = train_dataset.describe()\n",
    "train_stats.pop(\"MWT1Best\")\n",
    "train_stats = train_stats.transpose()\n",
    "train_stats"
   ]
  },
  {
   "cell_type": "markdown",
   "metadata": {},
   "source": [
    "Split feature from labels"
   ]
  },
  {
   "cell_type": "code",
   "execution_count": 41,
   "metadata": {},
   "outputs": [],
   "source": [
    "train_labels = train_dataset.pop('MWT1Best')\n",
    "test_labels = test_dataset.pop('MWT1Best')"
   ]
  },
  {
   "cell_type": "markdown",
   "metadata": {},
   "source": [
    "Normalizing the Data for better performance"
   ]
  },
  {
   "cell_type": "code",
   "execution_count": 42,
   "metadata": {},
   "outputs": [],
   "source": [
    "def norm(x):\n",
    "  return (x - train_stats['mean']) / train_stats['std']\n",
    "normed_train_data = norm(train_dataset)\n",
    "normed_test_data = norm(test_dataset)"
   ]
  },
  {
   "cell_type": "markdown",
   "metadata": {},
   "source": [
    "Building the model using Keras"
   ]
  },
  {
   "cell_type": "code",
   "execution_count": 43,
   "metadata": {},
   "outputs": [],
   "source": [
    "model = tf.keras.Sequential([\n",
    "    layers.Dense(512, activation='tanh', input_shape=[len(train_dataset.keys())]),\n",
    "    layers.Dropout(0.5),\n",
    "    layers.Dense(512, activation='tanh'),\n",
    "    layers.Dropout(0.5),\n",
    "    layers.Dense(512, activation='tanh'),\n",
    "    layers.Dropout(0.5),\n",
    "    layers.Dense(512, activation='tanh'),\n",
    "    layers.Dropout(0.5),\n",
    "    layers.Dense(1)\n",
    "])"
   ]
  },
  {
   "cell_type": "code",
   "execution_count": 44,
   "metadata": {},
   "outputs": [],
   "source": [
    "optimizer = tf.keras.optimizers.RMSprop(learning_rate =0.0001, momentum = 0.9)"
   ]
  },
  {
   "cell_type": "code",
   "execution_count": 45,
   "metadata": {},
   "outputs": [],
   "source": [
    " model.compile(loss='mse', optimizer=optimizer,\n",
    "                metrics=['mae', 'mse'])"
   ]
  },
  {
   "cell_type": "markdown",
   "metadata": {},
   "source": [
    "Training the Model, to record the accuracy in the history object"
   ]
  },
  {
   "cell_type": "code",
   "execution_count": 46,
   "metadata": {},
   "outputs": [
    {
     "name": "stdout",
     "output_type": "stream",
     "text": [
      "WARNING:tensorflow:Falling back from v2 loop because of error: Failed to find data adapter that can handle input: <class 'pandas.core.frame.DataFrame'>, <class 'NoneType'>\n"
     ]
    }
   ],
   "source": [
    "EPOCHS = 5000\n",
    "\n",
    "history = model.fit(\n",
    "  normed_train_data, train_labels,\n",
    "  epochs=EPOCHS, validation_split = 0.2, verbose= 0)"
   ]
  },
  {
   "cell_type": "markdown",
   "metadata": {},
   "source": [
    "Looking at the end of the history object"
   ]
  },
  {
   "cell_type": "code",
   "execution_count": 47,
   "metadata": {},
   "outputs": [
    {
     "data": {
      "text/html": [
       "<div>\n",
       "<style scoped>\n",
       "    .dataframe tbody tr th:only-of-type {\n",
       "        vertical-align: middle;\n",
       "    }\n",
       "\n",
       "    .dataframe tbody tr th {\n",
       "        vertical-align: top;\n",
       "    }\n",
       "\n",
       "    .dataframe thead th {\n",
       "        text-align: right;\n",
       "    }\n",
       "</style>\n",
       "<table border=\"1\" class=\"dataframe\">\n",
       "  <thead>\n",
       "    <tr style=\"text-align: right;\">\n",
       "      <th></th>\n",
       "      <th>loss</th>\n",
       "      <th>mae</th>\n",
       "      <th>mse</th>\n",
       "      <th>val_loss</th>\n",
       "      <th>val_mae</th>\n",
       "      <th>val_mse</th>\n",
       "      <th>epoch</th>\n",
       "    </tr>\n",
       "  </thead>\n",
       "  <tbody>\n",
       "    <tr>\n",
       "      <td>4995</td>\n",
       "      <td>582.204885</td>\n",
       "      <td>18.635981</td>\n",
       "      <td>582.204895</td>\n",
       "      <td>5841.946777</td>\n",
       "      <td>55.425858</td>\n",
       "      <td>5841.946777</td>\n",
       "      <td>4995</td>\n",
       "    </tr>\n",
       "    <tr>\n",
       "      <td>4996</td>\n",
       "      <td>573.850342</td>\n",
       "      <td>19.334801</td>\n",
       "      <td>573.850342</td>\n",
       "      <td>5808.468750</td>\n",
       "      <td>55.331158</td>\n",
       "      <td>5808.468750</td>\n",
       "      <td>4996</td>\n",
       "    </tr>\n",
       "    <tr>\n",
       "      <td>4997</td>\n",
       "      <td>515.977193</td>\n",
       "      <td>16.801065</td>\n",
       "      <td>515.977234</td>\n",
       "      <td>5785.836426</td>\n",
       "      <td>55.262211</td>\n",
       "      <td>5785.836426</td>\n",
       "      <td>4997</td>\n",
       "    </tr>\n",
       "    <tr>\n",
       "      <td>4998</td>\n",
       "      <td>637.658000</td>\n",
       "      <td>19.840420</td>\n",
       "      <td>637.658020</td>\n",
       "      <td>5740.634766</td>\n",
       "      <td>55.022415</td>\n",
       "      <td>5740.634766</td>\n",
       "      <td>4998</td>\n",
       "    </tr>\n",
       "    <tr>\n",
       "      <td>4999</td>\n",
       "      <td>494.453206</td>\n",
       "      <td>17.698465</td>\n",
       "      <td>494.453217</td>\n",
       "      <td>5692.110840</td>\n",
       "      <td>54.707321</td>\n",
       "      <td>5692.110840</td>\n",
       "      <td>4999</td>\n",
       "    </tr>\n",
       "  </tbody>\n",
       "</table>\n",
       "</div>"
      ],
      "text/plain": [
       "            loss        mae         mse     val_loss    val_mae      val_mse  \\\n",
       "4995  582.204885  18.635981  582.204895  5841.946777  55.425858  5841.946777   \n",
       "4996  573.850342  19.334801  573.850342  5808.468750  55.331158  5808.468750   \n",
       "4997  515.977193  16.801065  515.977234  5785.836426  55.262211  5785.836426   \n",
       "4998  637.658000  19.840420  637.658020  5740.634766  55.022415  5740.634766   \n",
       "4999  494.453206  17.698465  494.453217  5692.110840  54.707321  5692.110840   \n",
       "\n",
       "      epoch  \n",
       "4995   4995  \n",
       "4996   4996  \n",
       "4997   4997  \n",
       "4998   4998  \n",
       "4999   4999  "
      ]
     },
     "execution_count": 47,
     "metadata": {},
     "output_type": "execute_result"
    }
   ],
   "source": [
    "hist = pd.DataFrame(history.history)\n",
    "hist['epoch'] = history.epoch\n",
    "hist.tail()"
   ]
  },
  {
   "cell_type": "markdown",
   "metadata": {},
   "source": [
    "## Predictions"
   ]
  },
  {
   "cell_type": "code",
   "execution_count": 48,
   "metadata": {},
   "outputs": [
    {
     "name": "stdout",
     "output_type": "stream",
     "text": [
      "WARNING:tensorflow:Falling back from v2 loop because of error: Failed to find data adapter that can handle input: <class 'pandas.core.frame.DataFrame'>, <class 'NoneType'>\n"
     ]
    },
    {
     "data": {
      "image/png": "[encoded data removed]",
      "text/plain": [
       "<Figure size 432x288 with 1 Axes>"
      ]
     },
     "metadata": {
      "needs_background": "light"
     },
     "output_type": "display_data"
    }
   ],
   "source": [
    "test_predictions = model.predict(normed_test_data).flatten()\n",
    "plt.scatter(test_labels, test_predictions)\n",
    "lims = [0,700]\n",
    "plt.xlabel('True Values, Meters')\n",
    "plt.ylabel('Predictions, Meters')\n",
    "_ = plt.plot(lims, lims)\n",
    "plt.show()"
   ]
  },
  {
   "cell_type": "code",
   "execution_count": 49,
   "metadata": {},
   "outputs": [
    {
     "data": {
      "image/png": "[encoded data removed]",
      "text/plain": [
       "<Figure size 432x288 with 1 Axes>"
      ]
     },
     "metadata": {
      "needs_background": "light"
     },
     "output_type": "display_data"
    }
   ],
   "source": [
    "error = test_predictions - test_labels\n",
    "plt.hist(error, bins = 20)\n",
    "plt.xlabel(\"Prediction Error, METERS \")\n",
    "_ = plt.ylabel(\"Count\")"
   ]
  },
  {
   "cell_type": "code",
   "execution_count": 50,
   "metadata": {},
   "outputs": [
    {
     "name": "stdout",
     "output_type": "stream",
     "text": [
      "WARNING:tensorflow:Falling back from v2 loop because of error: Failed to find data adapter that can handle input: <class 'pandas.core.frame.DataFrame'>, <class 'NoneType'>\n",
      "60/60 - 0s - loss: 1171.2132 - mae: 13.7045 - mse: 1171.2133\n"
     ]
    }
   ],
   "source": [
    "loss, mae, mse = model.evaluate(normed_train_data, train_labels, verbose=2)"
   ]
  },
  {
   "cell_type": "code",
   "execution_count": 51,
   "metadata": {},
   "outputs": [
    {
     "name": "stdout",
     "output_type": "stream",
     "text": [
      "Training set RMSE: 34.22 Meters\n"
     ]
    }
   ],
   "source": [
    "rmsetraining = math.sqrt(mse)\n",
    "print(\"Training set RMSE: {:5.2f} Meters\".format(rmsetraining))"
   ]
  },
  {
   "cell_type": "code",
   "execution_count": 52,
   "metadata": {},
   "outputs": [
    {
     "name": "stdout",
     "output_type": "stream",
     "text": [
      "WARNING:tensorflow:Falling back from v2 loop because of error: Failed to find data adapter that can handle input: <class 'pandas.core.frame.DataFrame'>, <class 'NoneType'>\n",
      "40/40 - 0s - loss: 8639.3299 - mae: 71.7099 - mse: 8639.3301\n"
     ]
    }
   ],
   "source": [
    "loss, mae, mse = model.evaluate(normed_test_data, test_labels, verbose=2)"
   ]
  },
  {
   "cell_type": "code",
   "execution_count": 53,
   "metadata": {},
   "outputs": [
    {
     "name": "stdout",
     "output_type": "stream",
     "text": [
      "Testing set RMSE: 92.95 Meters\n"
     ]
    }
   ],
   "source": [
    "rmsetest = math.sqrt(mse)\n",
    "print(\"Testing set RMSE: {:5.2f} Meters\".format(rmsetest))"
   ]
  },
  {
   "cell_type": "markdown",
   "metadata": {},
   "source": [
    "# Conclusion"
   ]
  },
  {
   "cell_type": "markdown",
   "metadata": {},
   "source": [
    "There is definitely a relationship between the outcome variable of distance in the walking test and the various factors in the data set and a model can be developed with accuracy of RMSE 34.22 meters on the training set with only basic data cleaning, this is by far the best RMSE value of any model. The overall dependent variable MWT1Best a max of 699. Unfortunately, after using 50% Drop out to combat overfitting the testing set RMSE is still at 92.95 meters and a Mean Absolute Error of 71.7099 Meters. The most important variables when analyzing the MWT1Best are diabetes and atrial fibrillation, this raises the question as to whether these variables have more effect on walking distance test than COPD. This also raises more questions about comorbidity."
   ]
  },
  {
   "cell_type": "code",
   "execution_count": null,
   "metadata": {},
   "outputs": [],
   "source": []
  }
 ],
 "metadata": {
  "kernelspec": {
   "display_name": "Python 3",
   "language": "python",
   "name": "python3"
  },
  "language_info": {
   "codemirror_mode": {
    "name": "ipython",
    "version": 3
   },
   "file_extension": ".py",
   "mimetype": "text/x-python",
   "name": "python",
   "nbconvert_exporter": "python",
   "pygments_lexer": "ipython3",
   "version": "3.7.4"
  }
 },
 "nbformat": 4,
 "nbformat_minor": 4
}
